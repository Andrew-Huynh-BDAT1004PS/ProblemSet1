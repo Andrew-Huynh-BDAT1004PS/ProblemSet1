{
 "cells": [
  {
   "cell_type": "markdown",
   "id": "e259c053",
   "metadata": {},
   "source": [
    "1,2abcd,3,4,5"
   ]
  },
  {
   "cell_type": "code",
   "execution_count": null,
   "id": "758db920",
   "metadata": {},
   "outputs": [],
   "source": [
    "##Question 1\n",
    "\n",
    "5 int\n",
    "5.0 double\n",
    "5 > 1 bool\n",
    "'5' char\n",
    "5 * 2 int\n",
    "'5' + '2' int //strange\n",
    "5 / 2 int\n",
    "5 % 2 int //strange\n",
    "{5, 2, 1} int\n",
    "5 == 3 bool\n",
    "pi double"
   ]
  },
  {
   "cell_type": "markdown",
   "id": "c6ab3204",
   "metadata": {},
   "source": [
    "Question 2\n",
    "a b c d"
   ]
  },
  {
   "cell_type": "code",
   "execution_count": 40,
   "id": "f3609522",
   "metadata": {},
   "outputs": [
    {
     "name": "stdout",
     "output_type": "stream",
     "text": [
      "There are 34 letters in the word Supercalifragilisticexpialidocious\n",
      "Ice is present\n"
     ]
    }
   ],
   "source": [
    "\n",
    "{\n",
    "string word = \"Supercalifragilisticexpialidocious\";\n",
    "                Console.WriteLine(\"There are \" + word.Length + \n",
    "                                  \" letters in the word Supercalifragilisticexpialidocious\");\n",
    "}\n",
    "\n",
    "{    \n",
    "    string smallWord = \"ice\";\n",
    "    if (word.Contains(smallWord))  //determine if Ice is present\n",
    "    {\n",
    "     Console.WriteLine(\"Ice is present\");  //IF Yes\n",
    "    }       \n",
    "    else\n",
    "    {\n",
    "     Console.WriteLine(\"Ice is not present\"); //If No\n",
    "    }\n",
    "\n",
    "       \n",
    "}\n",
    "       "
   ]
  },
  {
   "cell_type": "code",
   "execution_count": 13,
   "id": "c060ccd7",
   "metadata": {},
   "outputs": [
    {
     "name": "stdout",
     "output_type": "stream",
     "text": [
      "The length of the txt string is: 34\n",
      "The length of the txt string is: 27\n",
      "The length of the txt string is: 34\n"
     ]
    }
   ],
   "source": [
    "{\n",
    "   string word1 = \"Supercalifragilisticexpialidocious\";\n",
    "    int wordL1 = Convert.ToInt32(Console.ReadLine()); \n",
    "    Console.WriteLine(\"The length of the txt string is: \" + word1.Length);\n",
    "}\n",
    "\n",
    "{\n",
    "   string word2 = \"Honorificabilitudinitatibus\";\n",
    "    int wordL2 = Convert.ToInt32(Console.ReadLine());\n",
    "    Console.WriteLine(\"The length of the txt string is: \" + word2.Length);\n",
    "}\n",
    "\n",
    "{\n",
    "   string word3 = \"Bababadalgharaghtakamminarronnkonn\";\n",
    "    int wordL3 = Convert.ToInt32(Console.ReadLine()); \n",
    "    Console.WriteLine(\"The length of the txt string is: \" + word3.Length);\n",
    "}"
   ]
  },
  {
   "cell_type": "code",
   "execution_count": 52,
   "id": "6cd27931",
   "metadata": {},
   "outputs": [
    {
     "name": "stdout",
     "output_type": "stream",
     "text": [
      "Bartok comes first in the dictionary\n",
      "Buxtehude comes last in the dictionary\n"
     ]
    }
   ],
   "source": [
    "string[] composers = {\"Berlioz\", \"Borodin\", \"Brian\", \"Bartok\",\n",
    "                    \"Bellini\", \"Buxtehude\" , \"Bernstein\" };\n",
    "    {\n",
    "\n",
    "      Console.WriteLine(composers.Min() + \n",
    "                        \" comes first in the dictionary\");\n",
    "      Console.WriteLine(composers.Max() +\n",
    "                        \" comes last in the dictionary\");\n",
    "    }"
   ]
  },
  {
   "cell_type": "markdown",
   "id": "30c55b76",
   "metadata": {},
   "source": [
    "Question 3"
   ]
  },
  {
   "cell_type": "code",
   "execution_count": 1,
   "id": "115d4fc5",
   "metadata": {},
   "outputs": [
    {
     "name": "stdout",
     "output_type": "stream",
     "text": [
      "Enter the value of length a: \n",
      "Enter the value of length b: \n",
      "Enter the value of length c: \n",
      "The area of the triangle is 0 units\n"
     ]
    }
   ],
   "source": [
    "{\n",
    "                Console.WriteLine(\"Enter the value of length a: \");\n",
    "\n",
    "                    double A = Convert.ToInt32(Console.ReadLine());\n",
    "                       \n",
    "\n",
    "                Console.WriteLine(\"Enter the value of length b: \");\n",
    "\n",
    "                    double B = Convert.ToInt32(Console.ReadLine());\n",
    "                        \n",
    "                Console.WriteLine(\"Enter the value of length c: \");\n",
    "                    \n",
    "                    double C = Convert.ToInt32(Console.ReadLine());\n",
    "                        \n",
    "            double sum1 = A + B + C; //Sum of all inputs\n",
    "\n",
    "            double S = sum1 / 2; //Determine Value of S\n",
    "\n",
    "                double X = S - A; //Subtract values \n",
    "                double Y = S - B;\n",
    "                double Z = S - C;\n",
    "\n",
    "                double Mult = S * X * Y * Z; //Multiply all values\n",
    "                double answer = Math.Sqrt(Mult); //Square root the results\n",
    "\n",
    "                Console.WriteLine(\"The area of the triangle is \" + answer + \" units\"); //Yeah I wish I had a better answer\n",
    "\n",
    "            }"
   ]
  },
  {
   "cell_type": "markdown",
   "id": "e58a9196",
   "metadata": {},
   "source": [
    "Question 4"
   ]
  },
  {
   "cell_type": "code",
   "execution_count": 7,
   "id": "361eeef0",
   "metadata": {},
   "outputs": [
    {
     "name": "stdout",
     "output_type": "stream",
     "text": [
      "25\n",
      "32\n",
      "42\n",
      "47\n",
      "56\n"
     ]
    }
   ],
   "source": [
    "int[] odd;\n",
    "\n",
    "int[]even;\n",
    "\n",
    "int[] arr = new int[5];        \n",
    "        arr[0] = 25;\n",
    "        arr[1] = 47;\n",
    "        arr[2] = 42;\n",
    "        arr[3] = 56;\n",
    "        arr[4] = 32;\n",
    "        foreach (int i in arr)\n",
    "        \n",
    "        \n",
    "        if(i%2 == 0)\n",
    "        {\n",
    "          \n",
    "          int[] odd = new int[i];\n",
    "            balance[] = i;\n",
    "           //Console.WriteLine(\"Number is even\");\n",
    "         \n",
    "         \n",
    "        }\n",
    "        else\n",
    "        {\n",
    "        \n",
    "          Console.WriteLine(\"Number is odd\");\n",
    "        }"
   ]
  },
  {
   "cell_type": "code",
   "execution_count": 17,
   "id": "8a00954d",
   "metadata": {},
   "outputs": [
    {
     "name": "stdout",
     "output_type": "stream",
     "text": [
      "a[0][0] = 0\n",
      "a[0][1] = 0\n",
      "a[1][0] = 1\n",
      "a[1][1] = 2\n",
      "a[2][0] = 2\n",
      "a[2][1] = 4\n",
      "a[3][0] = 3\n",
      "a[3][1] = 6\n",
      "a[4][0] = 4\n",
      "a[4][1] = 8\n"
     ]
    },
    {
     "ename": "Unhandled exception",
     "evalue": "System.InvalidOperationException: Cannot read keys when either application does not have a console or when console input has been redirected. Try Console.Read.\r\n   at System.ConsolePal.ReadKey(Boolean intercept)\r\n   at System.Console.ReadKey()\r\n   at Submission#19.<<Initialize>>d__0.MoveNext()\r\n--- End of stack trace from previous location ---\r\n   at Microsoft.CodeAnalysis.Scripting.ScriptExecutionState.RunSubmissionsAsync[TResult](ImmutableArray`1 precedingExecutors, Func`2 currentExecutor, StrongBox`1 exceptionHolderOpt, Func`2 catchExceptionOpt, CancellationToken cancellationToken)",
     "output_type": "error",
     "traceback": [
      "System.InvalidOperationException: Cannot read keys when either application does not have a console or when console input has been redirected. Try Console.Read.\r\n   at System.ConsolePal.ReadKey(Boolean intercept)\r\n   at System.Console.ReadKey()\r\n   at Submission#19.<<Initialize>>d__0.MoveNext()\r\n--- End of stack trace from previous location ---\r\n   at Microsoft.CodeAnalysis.Scripting.ScriptExecutionState.RunSubmissionsAsync[TResult](ImmutableArray`1 precedingExecutors, Func`2 currentExecutor, StrongBox`1 exceptionHolderOpt, Func`2 catchExceptionOpt, CancellationToken cancellationToken)",
      "   at System.ConsolePal.ReadKey(Boolean intercept)",
      "   at System.Console.ReadKey()",
      "   at Submission#19.<<Initialize>>d__0.MoveNext()",
      "--- End of stack trace from previous location ---",
      "   at Microsoft.CodeAnalysis.Scripting.ScriptExecutionState.RunSubmissionsAsync[TResult](ImmutableArray`1 precedingExecutors, Func`2 currentExecutor, StrongBox`1 exceptionHolderOpt, Func`2 catchExceptionOpt, CancellationToken cancellationToken)"
     ]
    }
   ],
   "source": [
    " int[][] a = new int[][]{new int[]{0,0},new int[]{1,2},\n",
    "                  new int[]{2,4},new int[]{ 3, 6 }, new int[]{ 4, 8 } };\n",
    "                  int i, j;\n",
    "                  for (i = 0; i < 5; i++)\n",
    "                  {\n",
    "                         for (j = 0; j < 2; j++)\n",
    "                         {\n",
    "                                Console.WriteLine(\"a[{0}][{1}] = {2}\", i, j, a[i][j]);\n",
    "                         }\n",
    "                  }\n",
    "                  Console.ReadKey();"
   ]
  },
  {
   "cell_type": "markdown",
   "id": "d947af00",
   "metadata": {},
   "source": [
    "Question 5"
   ]
  },
  {
   "cell_type": "code",
   "execution_count": null,
   "id": "cf6f6f1d",
   "metadata": {},
   "outputs": [],
   "source": [
    "//If-else\n",
    "//https://learn.microsoft.com/en-us/dotnet/api/system.drawing.rectangle.-ctor?view=net-7.0#system-drawing-rectangle-ctor(system-drawing-point-system-drawing-size)"
   ]
  },
  {
   "cell_type": "code",
   "execution_count": null,
   "id": "fa36fe31",
   "metadata": {},
   "outputs": [],
   "source": []
  }
 ],
 "metadata": {
  "kernelspec": {
   "display_name": ".NET (C#)",
   "language": "C#",
   "name": ".net-csharp"
  },
  "language_info": {
   "file_extension": ".cs",
   "mimetype": "text/x-csharp",
   "name": "C#",
   "pygments_lexer": "csharp",
   "version": "8.0"
  }
 },
 "nbformat": 4,
 "nbformat_minor": 5
}

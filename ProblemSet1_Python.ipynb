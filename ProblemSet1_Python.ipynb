{
 "cells": [
  {
   "cell_type": "markdown",
   "id": "08319e24",
   "metadata": {},
   "source": [
    "6,7,8,9,10"
   ]
  },
  {
   "cell_type": "markdown",
   "id": "6e997c29",
   "metadata": {},
   "source": [
    "Question 6"
   ]
  },
  {
   "cell_type": "code",
   "execution_count": 3,
   "id": "30be8325",
   "metadata": {},
   "outputs": [
    {
     "name": "stdout",
     "output_type": "stream",
     "text": [
      "Input word to convert:vbvart\n",
      "In pig-Latin, this word is: vbvart\n"
     ]
    }
   ],
   "source": [
    "piglatin = input(\"Input word to convert:\")\n",
    "print(\"In pig-Latin, this word is: \"  + piglatin) \n"
   ]
  },
  {
   "cell_type": "code",
   "execution_count": null,
   "id": "bb5efe0d",
   "metadata": {},
   "outputs": [],
   "source": [
    "Question 7"
   ]
  },
  {
   "cell_type": "code",
   "execution_count": null,
   "id": "076192ba",
   "metadata": {},
   "outputs": [],
   "source": []
  },
  {
   "cell_type": "code",
   "execution_count": null,
   "id": "12fdc574",
   "metadata": {},
   "outputs": [],
   "source": [
    "Question 8"
   ]
  },
  {
   "cell_type": "code",
   "execution_count": null,
   "id": "91c2d85b",
   "metadata": {},
   "outputs": [],
   "source": [
    "##0-2 4-12"
   ]
  },
  {
   "cell_type": "markdown",
   "id": "3ab4961a",
   "metadata": {},
   "source": [
    "Question 9"
   ]
  },
  {
   "cell_type": "code",
   "execution_count": null,
   "id": "d6e6b7da",
   "metadata": {},
   "outputs": [],
   "source": [
    "TypeError\n",
    "##Unknown, probably IndexError\n",
    "NameError\n",
    "NameError\n",
    "FileNotfoundError"
   ]
  },
  {
   "cell_type": "markdown",
   "id": "dff4440a",
   "metadata": {},
   "source": [
    "Question 10"
   ]
  },
  {
   "cell_type": "code",
   "execution_count": null,
   "id": "04574142",
   "metadata": {},
   "outputs": [],
   "source": []
  }
 ],
 "metadata": {
  "kernelspec": {
   "display_name": "Python 3 (ipykernel)",
   "language": "python",
   "name": "python3"
  },
  "language_info": {
   "codemirror_mode": {
    "name": "ipython",
    "version": 3
   },
   "file_extension": ".py",
   "mimetype": "text/x-python",
   "name": "python",
   "nbconvert_exporter": "python",
   "pygments_lexer": "ipython3",
   "version": "3.9.13"
  }
 },
 "nbformat": 4,
 "nbformat_minor": 5
}
